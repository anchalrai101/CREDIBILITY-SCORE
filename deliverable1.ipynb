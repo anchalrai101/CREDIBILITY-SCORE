{
  "nbformat": 4,
  "nbformat_minor": 0,
  "metadata": {
    "colab": {
      "provenance": []
    },
    "kernelspec": {
      "name": "python3",
      "display_name": "Python 3"
    },
    "language_info": {
      "name": "python"
    }
  },
  "cells": [
    {
      "cell_type": "code",
      "source": [
        "import requests\n",
        "from bs4 import BeautifulSoup\n",
        "import json\n",
        "import pandas as pd\n",
        "import matplotlib.pyplot as plt"
      ],
      "metadata": {
        "id": "zlH3qdMOSGIU"
      },
      "execution_count": 2,
      "outputs": []
    },
    {
      "cell_type": "code",
      "source": [
        "# Function to evaluate the credibility of a URL\n",
        "def evaluate_credibility(url):\n",
        "    credibility_score = 0.0\n",
        "    explanation = \"No valid evaluation.\"\n",
        "\n",
        "    try:\n",
        "        # Fetch the webpage content\n",
        "        response = requests.get(url, timeout=5)\n",
        "        if response.status_code == 200:\n",
        "            soup = BeautifulSoup(response.text, 'html.parser')\n",
        "\n",
        "            # Check for trusted domains\n",
        "            if any(ext in url for ext in [\".gov\", \".edu\", \".org\"]):\n",
        "                credibility_score += 0.3\n",
        "                explanation = \"Trusted domain detected.\"\n",
        "\n",
        "            # Check for citation references\n",
        "            references = len(soup.find_all(\"a\", href=True))\n",
        "            if references > 10:\n",
        "                credibility_score += 0.3\n",
        "                explanation += \" Multiple references found.\"\n",
        "\n",
        "            # Check for author details\n",
        "            author_meta = soup.find(\"meta\", {\"name\": \"author\"})\n",
        "            if author_meta:\n",
        "                credibility_score += 0.2\n",
        "                explanation += \" Author details available.\"\n",
        "\n",
        "            # Normalize score\n",
        "            credibility_score = round(min(1.0, credibility_score), 2)\n",
        "\n",
        "        else:\n",
        "            explanation = \"Could not retrieve webpage.\"\n",
        "\n",
        "    except Exception as e:\n",
        "        explanation = f\"Error fetching URL: {str(e)}\"\n",
        "\n",
        "    return {\"score\": credibility_score, \"explanation\": explanation}\n"
      ],
      "metadata": {
        "id": "L9bElcF6SPhK"
      },
      "execution_count": 3,
      "outputs": []
    },
    {
      "cell_type": "code",
      "source": [
        "# Example Usage\n",
        "test_url = \"https://www.nytimes.com\"\n",
        "result = evaluate_credibility(test_url)\n",
        "print(json.dumps(result, indent=2))"
      ],
      "metadata": {
        "colab": {
          "base_uri": "https://localhost:8080/"
        },
        "id": "FH7cSOrSbxak",
        "outputId": "5d5cc4cb-7554-4495-8966-bab8a57ea86c"
      },
      "execution_count": 7,
      "outputs": [
        {
          "output_type": "stream",
          "name": "stdout",
          "text": [
            "{\n",
            "  \"score\": 0.3,\n",
            "  \"explanation\": \"No valid evaluation. Multiple references found.\"\n",
            "}\n"
          ]
        }
      ]
    }
  ]
}
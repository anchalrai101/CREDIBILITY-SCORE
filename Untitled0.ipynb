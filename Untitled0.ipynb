{
  "nbformat": 4,
  "nbformat_minor": 0,
  "metadata": {
    "colab": {
      "provenance": []
    },
    "kernelspec": {
      "name": "python3",
      "display_name": "Python 3"
    },
    "language_info": {
      "name": "python"
    }
  },
  "cells": [
    {
      "cell_type": "code",
      "execution_count": 4,
      "metadata": {
        "id": "JrlHj1iSiTSd"
      },
      "outputs": [],
      "source": [
        "import requests\n",
        "from urllib.parse import urlparse"
      ]
    },
    {
      "cell_type": "code",
      "source": [
        "def evaluate_url_credibility(url):\n",
        "    \"\"\"\n",
        "    Evaluates the credibility of a given URL based on predefined rules.\n",
        "\n",
        "    Parameters:\n",
        "        url (str): The reference URL to evaluate.\n",
        "\n",
        "    Returns:\n",
        "        dict: A JSON-like dictionary containing a credibility score and an explanation.\n",
        "    \"\"\"\n",
        "\n",
        "    # Extract domain from URL\n",
        "    parsed_url = urlparse(url)\n",
        "    domain = parsed_url.netloc.lower()\n",
        "\n",
        "    # Simple heuristic: Check if the domain is from a known credible source\n",
        "    credible_domains = {\n",
        "        \"nytimes.com\": 0.9,\n",
        "        \"bbc.com\": 0.9,\n",
        "        \"nature.com\": 0.95,\n",
        "        \"wikipedia.org\": 0.7,\n",
        "        \"reddit.com\": 0.3,  # Example of a lower credibility source\n",
        "    }\n",
        "\n",
        "    # Assign score based on domain credibility (default to 0.5 if unknown)\n",
        "    score = credible_domains.get(domain, 0.5)\n",
        "    explanation = f\"The source {domain} has an estimated credibility score based on known reputable domains.\"\n",
        "\n",
        "    # Example extension: Check if the URL is reachable (optional but useful)\n",
        "    try:\n",
        "        response = requests.get(url, timeout=5)\n",
        "        if response.status_code == 200:\n",
        "            explanation += \" The source is accessible online.\"\n",
        "        else:\n",
        "            score -= 0.1\n",
        "            explanation += \" The source is not easily accessible, reducing credibility.\"\n",
        "    except requests.RequestException:\n",
        "        score -= 0.2\n",
        "        explanation += \" The source is unreachable, significantly affecting credibility.\"\n",
        "\n",
        "    return {\"score\": round(score, 2), \"explanation\": explanation}\n",
        "\n",
        "# Example Usage:\n",
        "if __name__ == \"__main__\":\n",
        "    url = \"https://www.bbc.com/news/science-environment-123456\"\n",
        "    result = evaluate_url_credibility(url)\n",
        "    print(result)"
      ],
      "metadata": {
        "id": "dU4TsZI5D7pu",
        "outputId": "19b13396-b962-4fef-b076-04acb6c971ff",
        "colab": {
          "base_uri": "https://localhost:8080/"
        }
      },
      "execution_count": 5,
      "outputs": [
        {
          "output_type": "stream",
          "name": "stdout",
          "text": [
            "{'score': 0.4, 'explanation': 'The source www.bbc.com has an estimated credibility score based on known reputable domains. The source is not easily accessible, reducing credibility.'}\n"
          ]
        }
      ]
    },
    {
      "cell_type": "code",
      "source": [
        "{\n",
        "  \"score\": 0.9,\n",
        "  \"explanation\": \"The source bbc.com has an estimated credibility score based on known reputable domains. The source is accessible online.\"\n",
        "}"
      ],
      "metadata": {
        "colab": {
          "base_uri": "https://localhost:8080/"
        },
        "id": "OALnQbGQlLfa",
        "outputId": "9d11067a-ebe4-4b13-b1c3-e433043ab68d"
      },
      "execution_count": 6,
      "outputs": [
        {
          "output_type": "execute_result",
          "data": {
            "text/plain": [
              "{'score': 0.9,\n",
              " 'explanation': 'The source bbc.com has an estimated credibility score based on known reputable domains. The source is accessible online.'}"
            ]
          },
          "metadata": {},
          "execution_count": 6
        }
      ]
    }
  ]
}